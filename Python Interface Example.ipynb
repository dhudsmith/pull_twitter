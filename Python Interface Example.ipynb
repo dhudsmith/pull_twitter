{
 "cells": [
  {
   "cell_type": "markdown",
   "metadata": {},
   "source": [
    "# Imports "
   ]
  },
  {
   "cell_type": "code",
   "execution_count": 1,
   "metadata": {},
   "outputs": [],
   "source": [
    "# utils contains configuration and scripts to interface with the Twitter API\n",
    "# PullTwitterAPI is the full python interface for the package\n",
    "from pull_twitter_api import utils, PullTwitterAPI\n",
    "\n",
    "import os\n",
    "import twitteralchemy as twalc"
   ]
  },
  {
   "cell_type": "markdown",
   "metadata": {},
   "source": [
    "# Configuration "
   ]
  },
  {
   "cell_type": "markdown",
   "metadata": {},
   "source": [
    "Config for the api queries can either be passed as a file path to a yaml file, or as a TwitterPullConfig  object"
   ]
  },
  {
   "cell_type": "code",
   "execution_count": 2,
   "metadata": {},
   "outputs": [],
   "source": [
    "config_path = './configs/timeline_config_ex.yaml'"
   ]
  },
  {
   "cell_type": "code",
   "execution_count": 3,
   "metadata": {},
   "outputs": [],
   "source": [
    "pt_api = PullTwitterAPI(config_path = config_path)"
   ]
  },
  {
   "cell_type": "markdown",
   "metadata": {},
   "source": [
    "# API Query Calls "
   ]
  },
  {
   "cell_type": "code",
   "execution_count": 12,
   "metadata": {},
   "outputs": [],
   "source": [
    "handle_csv = './data/celeb_handle_test_short.csv'"
   ]
  },
  {
   "cell_type": "markdown",
   "metadata": {},
   "source": [
    "## Timeline Example"
   ]
  },
  {
   "cell_type": "code",
   "execution_count": 7,
   "metadata": {},
   "outputs": [],
   "source": [
    "tl_config = './configs/timeline_config_ex.yaml'\n",
    "pt_api.load_config(config_path = tl_config)"
   ]
  },
  {
   "cell_type": "code",
   "execution_count": 9,
   "metadata": {},
   "outputs": [
    {
     "name": "stdout",
     "output_type": "stream",
     "text": [
      "Processing handle 1/3\n",
      "Pulling timeline for handle beyonce.\n",
      "Successfully retrieved user_id 31239408 for @beyonce.\n",
      "Saving tweets to C:\\Users\\ndeas\\Documents\\GitHub\\twitter_timeline\\data\\celeb_output_test/timeline/2022-02-02 09.47.29/beyonce/data_%s.csv\n",
      "Collected 19 tweets for handle beyonce\n",
      "------------------------------\n",
      "Processing handle 2/3\n",
      "Pulling timeline for handle taylorswift13.\n",
      "Successfully retrieved user_id 17919972 for @taylorswift13.\n",
      "Saving tweets to C:\\Users\\ndeas\\Documents\\GitHub\\twitter_timeline\\data\\celeb_output_test/timeline/2022-02-02 09.47.29/taylorswift13/data_%s.csv\n",
      "Collected 716 tweets for handle taylorswift13\n",
      "------------------------------\n",
      "Processing handle 3/3\n",
      "Pulling timeline for handle justinbieber.\n",
      "Successfully retrieved user_id 27260086 for @justinbieber.\n",
      "Saving tweets to C:\\Users\\ndeas\\Documents\\GitHub\\twitter_timeline\\data\\celeb_output_test/timeline/2022-02-02 09.47.29/justinbieber/data_%s.csv\n",
      "Collected 3150 tweets for handle justinbieber\n",
      "------------------------------\n"
     ]
    }
   ],
   "source": [
    "pt_api.timelines(user_csv = handle_csv,\n",
    "                handle_column = 'handle')"
   ]
  },
  {
   "cell_type": "markdown",
   "metadata": {},
   "source": [
    "## User Example "
   ]
  },
  {
   "cell_type": "code",
   "execution_count": 10,
   "metadata": {},
   "outputs": [],
   "source": [
    "us_config = './configs/user_config_ex.yaml'\n",
    "pt_api.load_config(config_path = us_config)"
   ]
  },
  {
   "cell_type": "code",
   "execution_count": 13,
   "metadata": {},
   "outputs": [
    {
     "name": "stdout",
     "output_type": "stream",
     "text": [
      "Pulling user information from given handles\n",
      "Saving users to C:\\Users\\ndeas\\Documents\\GitHub\\twitter_timeline\\data\\celeb_output_test/users/2022-02-02 09.49.04/data_%s.csv\n",
      "\r",
      "Collected 3 users"
     ]
    }
   ],
   "source": [
    "pt_api.users(user_csv = handle_csv,\n",
    "                handle_column = 'handle')"
   ]
  },
  {
   "cell_type": "markdown",
   "metadata": {},
   "source": [
    "## Search Example "
   ]
  },
  {
   "cell_type": "code",
   "execution_count": 14,
   "metadata": {},
   "outputs": [],
   "source": [
    "se_config = './configs/user_config_ex.yaml'\n",
    "pt_api.load_config(config_path = se_config)"
   ]
  },
  {
   "cell_type": "code",
   "execution_count": 15,
   "metadata": {},
   "outputs": [
    {
     "name": "stdout",
     "output_type": "stream",
     "text": [
      "Pulling tweet results using 'covid-19' search query.\n",
      "Saving tweets to C:\\Users\\ndeas\\Documents\\GitHub\\twitter_timeline\\data\\celeb_output_test/search/2022-02-02 09.49.31/data_%s.csv\n",
      "Collected 100 tweets for query: covid-19"
     ]
    }
   ],
   "source": [
    "pt_api.search('covid-19')"
   ]
  },
  {
   "cell_type": "code",
   "execution_count": null,
   "metadata": {},
   "outputs": [],
   "source": []
  },
  {
   "cell_type": "code",
   "execution_count": null,
   "metadata": {},
   "outputs": [],
   "source": []
  }
 ],
 "metadata": {
  "kernelspec": {
   "display_name": "Python 3",
   "language": "python",
   "name": "python3"
  },
  "language_info": {
   "codemirror_mode": {
    "name": "ipython",
    "version": 3
   },
   "file_extension": ".py",
   "mimetype": "text/x-python",
   "name": "python",
   "nbconvert_exporter": "python",
   "pygments_lexer": "ipython3",
   "version": "3.7.7"
  }
 },
 "nbformat": 4,
 "nbformat_minor": 4
}
