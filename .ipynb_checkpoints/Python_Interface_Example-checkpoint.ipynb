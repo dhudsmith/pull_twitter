{
 "cells": [
  {
   "cell_type": "markdown",
   "metadata": {},
   "source": [
    "# Imports "
   ]
  },
  {
   "cell_type": "code",
   "execution_count": 1,
   "metadata": {},
   "outputs": [],
   "source": [
    "# utils contains configuration and scripts to interface with the Twitter API\n",
    "# PullTwitterAPI is the full python interface for the package\n",
    "from pull_twitter_api import TwitterPullConfig, PullTwitterAPI\n",
    "\n",
    "import os\n",
    "import twitteralchemy as twalc"
   ]
  },
  {
   "cell_type": "markdown",
   "metadata": {},
   "source": [
    "# Configuration "
   ]
  },
  {
   "cell_type": "markdown",
   "metadata": {},
   "source": [
    "Config for the api queries can either be passed as a file path to a yaml file, or as a TwitterPullConfig  object"
   ]
  },
  {
   "cell_type": "markdown",
   "metadata": {},
   "source": [
    "## File path "
   ]
  },
  {
   "cell_type": "code",
   "execution_count": 2,
   "metadata": {},
   "outputs": [],
   "source": [
    "config_path = './configs/timeline_config_ex.yaml'"
   ]
  },
  {
   "cell_type": "code",
   "execution_count": 3,
   "metadata": {},
   "outputs": [],
   "source": [
    "pt_api = PullTwitterAPI(config_path = config_path)"
   ]
  },
  {
   "cell_type": "markdown",
   "metadata": {},
   "source": [
    "## Config Object"
   ]
  },
  {
   "cell_type": "markdown",
   "metadata": {},
   "source": [
    "config = TwitterPullConfig.from_file(config_path)"
   ]
  },
  {
   "cell_type": "markdown",
   "metadata": {},
   "source": [
    "pt_api = PullTwitterAPI(config = config)"
   ]
  },
  {
   "cell_type": "markdown",
   "metadata": {},
   "source": [
    "# API Query Calls "
   ]
  },
  {
   "cell_type": "code",
   "execution_count": 4,
   "metadata": {},
   "outputs": [],
   "source": [
    "handle_csv = './data/celeb_handle_test_short.csv'\n",
    "id_csv     = './data/celeb_id_test.csv'"
   ]
  },
  {
   "cell_type": "markdown",
   "metadata": {},
   "source": [
    "## Lookup Example "
   ]
  },
  {
   "cell_type": "code",
   "execution_count": 5,
   "metadata": {},
   "outputs": [],
   "source": [
    "tl_config = './configs/search_config_ex.yaml'\n",
    "pt_api.load_config(config_path = tl_config)"
   ]
  },
  {
   "cell_type": "code",
   "execution_count": null,
   "metadata": {},
   "outputs": [
    {
     "name": "stderr",
     "output_type": "stream",
     "text": [
      "Rate limit exceeded. Sleeping for 322 seconds.\n"
     ]
    },
    {
     "name": "stdout",
     "output_type": "stream",
     "text": [
      "Pulling tweet results for 19 ids.\n",
      "Calling Lookup Tweets\n"
     ]
    }
   ],
   "source": [
    "response = pt_api.lookup(id_csv = id_csv,\n",
    "                id_col = 'id')"
   ]
  },
  {
   "cell_type": "code",
   "execution_count": null,
   "metadata": {},
   "outputs": [],
   "source": []
  },
  {
   "cell_type": "markdown",
   "metadata": {},
   "source": [
    "## Timeline Example"
   ]
  },
  {
   "cell_type": "markdown",
   "metadata": {},
   "source": [
    "This example collects the full timelines for a set of users. The response is structured slightly differently, holding a set of tweet responses representing each user rather than a single response."
   ]
  },
  {
   "cell_type": "code",
   "execution_count": 8,
   "metadata": {},
   "outputs": [],
   "source": [
    "tl_config = './configs/timeline_config_ex.yaml'\n",
    "pt_api.load_config(config_path = tl_config)"
   ]
  },
  {
   "cell_type": "code",
   "execution_count": 9,
   "metadata": {},
   "outputs": [
    {
     "name": "stdout",
     "output_type": "stream",
     "text": [
      "Processing handle 1/3\n",
      "Pulling timeline for handle beyonce.\n",
      "Successfully retrieved user_id 31239408 for @beyonce.\n",
      "Collected 19 tweets for handle beyonce\n",
      "------------------------------\n",
      "Processing handle 2/3\n",
      "Pulling timeline for handle justinbeiber.\n",
      "Failed to get user id for justinbeiber\n",
      "Failed to pull timeline for handle justinbeiber. Error:  'NoneType' object has no attribute 'id'\n",
      "Processing handle 3/3\n",
      "Pulling timeline for handle taylorswift13.\n",
      "Successfully retrieved user_id 17919972 for @taylorswift13.\n",
      "Collected 716 tweets for handle taylorswift13\n",
      "------------------------------\n"
     ]
    }
   ],
   "source": [
    "response = pt_api.timelines(user_csv = handle_csv,\n",
    "                handle_column = 'handle')"
   ]
  },
  {
   "cell_type": "code",
   "execution_count": 10,
   "metadata": {},
   "outputs": [
    {
     "data": {
      "text/html": [
       "<div>\n",
       "<style scoped>\n",
       "    .dataframe tbody tr th:only-of-type {\n",
       "        vertical-align: middle;\n",
       "    }\n",
       "\n",
       "    .dataframe tbody tr th {\n",
       "        vertical-align: top;\n",
       "    }\n",
       "\n",
       "    .dataframe thead th {\n",
       "        text-align: right;\n",
       "    }\n",
       "</style>\n",
       "<table border=\"1\" class=\"dataframe\">\n",
       "  <thead>\n",
       "    <tr style=\"text-align: right;\">\n",
       "      <th></th>\n",
       "      <th>id</th>\n",
       "      <th>text</th>\n",
       "      <th>author_id</th>\n",
       "      <th>conversation_id</th>\n",
       "      <th>created_at</th>\n",
       "      <th>in_reply_to_user_id</th>\n",
       "      <th>lang</th>\n",
       "      <th>public_metrics_retweet_count</th>\n",
       "      <th>public_metrics_reply_count</th>\n",
       "      <th>public_metrics_like_count</th>\n",
       "      <th>public_metrics_quote_count</th>\n",
       "      <th>possibly_sensitive</th>\n",
       "      <th>reply_settings</th>\n",
       "      <th>source</th>\n",
       "    </tr>\n",
       "  </thead>\n",
       "  <tbody>\n",
       "    <tr>\n",
       "      <th>0</th>\n",
       "      <td>1485714267269738498</td>\n",
       "      <td>PS I wrote this tweet all by myself in case yo...</td>\n",
       "      <td>17919972</td>\n",
       "      <td>1485714265675812866</td>\n",
       "      <td>2022-01-24 20:40:59+00:00</td>\n",
       "      <td>17919972</td>\n",
       "      <td>en</td>\n",
       "      <td>85184</td>\n",
       "      <td>11082</td>\n",
       "      <td>712933</td>\n",
       "      <td>39604</td>\n",
       "      <td>False</td>\n",
       "      <td>everyone</td>\n",
       "      <td>Twitter for iPhone</td>\n",
       "    </tr>\n",
       "    <tr>\n",
       "      <th>1</th>\n",
       "      <td>1485714265675812866</td>\n",
       "      <td>@DamonAlbarn I was such a big fan of yours unt...</td>\n",
       "      <td>17919972</td>\n",
       "      <td>1485714265675812866</td>\n",
       "      <td>2022-01-24 20:40:58+00:00</td>\n",
       "      <td>531750633</td>\n",
       "      <td>en</td>\n",
       "      <td>117159</td>\n",
       "      <td>21855</td>\n",
       "      <td>727525</td>\n",
       "      <td>56340</td>\n",
       "      <td>False</td>\n",
       "      <td>everyone</td>\n",
       "      <td>Twitter for iPhone</td>\n",
       "    </tr>\n",
       "    <tr>\n",
       "      <th>2</th>\n",
       "      <td>1470506710901084162</td>\n",
       "      <td>*don’t say it, don’t say it OKAY I’m saying it...</td>\n",
       "      <td>17919972</td>\n",
       "      <td>1470506710901084162</td>\n",
       "      <td>2021-12-13 21:31:35+00:00</td>\n",
       "      <td>None</td>\n",
       "      <td>en</td>\n",
       "      <td>104161</td>\n",
       "      <td>31860</td>\n",
       "      <td>612858</td>\n",
       "      <td>22541</td>\n",
       "      <td>False</td>\n",
       "      <td>everyone</td>\n",
       "      <td>Twitter for iPhone</td>\n",
       "    </tr>\n",
       "    <tr>\n",
       "      <th>3</th>\n",
       "      <td>1463277431700262915</td>\n",
       "      <td>NO PROBLEMS TODAY JUST CHAMPAGNE🥂 I wanted to ...</td>\n",
       "      <td>17919972</td>\n",
       "      <td>1463277431700262915</td>\n",
       "      <td>2021-11-23 22:45:00+00:00</td>\n",
       "      <td>None</td>\n",
       "      <td>en</td>\n",
       "      <td>84395</td>\n",
       "      <td>13627</td>\n",
       "      <td>404821</td>\n",
       "      <td>23401</td>\n",
       "      <td>False</td>\n",
       "      <td>everyone</td>\n",
       "      <td>Twitter for iPhone</td>\n",
       "    </tr>\n",
       "    <tr>\n",
       "      <th>4</th>\n",
       "      <td>1462908811107307533</td>\n",
       "      <td>THANK YOU to the team that made All Too Well (...</td>\n",
       "      <td>17919972</td>\n",
       "      <td>1462908807034679303</td>\n",
       "      <td>2021-11-22 22:20:14+00:00</td>\n",
       "      <td>17919972</td>\n",
       "      <td>en</td>\n",
       "      <td>13792</td>\n",
       "      <td>1068</td>\n",
       "      <td>169536</td>\n",
       "      <td>380</td>\n",
       "      <td>False</td>\n",
       "      <td>everyone</td>\n",
       "      <td>Twitter for iPhone</td>\n",
       "    </tr>\n",
       "    <tr>\n",
       "      <th>...</th>\n",
       "      <td>...</td>\n",
       "      <td>...</td>\n",
       "      <td>...</td>\n",
       "      <td>...</td>\n",
       "      <td>...</td>\n",
       "      <td>...</td>\n",
       "      <td>...</td>\n",
       "      <td>...</td>\n",
       "      <td>...</td>\n",
       "      <td>...</td>\n",
       "      <td>...</td>\n",
       "      <td>...</td>\n",
       "      <td>...</td>\n",
       "      <td>...</td>\n",
       "    </tr>\n",
       "    <tr>\n",
       "      <th>11</th>\n",
       "      <td>900923703424413696</td>\n",
       "      <td>New single #LookWhatYouMadeMeDo out now. Pre-o...</td>\n",
       "      <td>17919972</td>\n",
       "      <td>900923703424413696</td>\n",
       "      <td>2017-08-25 03:32:03+00:00</td>\n",
       "      <td>None</td>\n",
       "      <td>en</td>\n",
       "      <td>58892</td>\n",
       "      <td>6071</td>\n",
       "      <td>154784</td>\n",
       "      <td>11152</td>\n",
       "      <td>False</td>\n",
       "      <td>everyone</td>\n",
       "      <td>Twitter for iPhone</td>\n",
       "    </tr>\n",
       "    <tr>\n",
       "      <th>12</th>\n",
       "      <td>900399489126629377</td>\n",
       "      <td>https://t.co/xMBBukfZPs</td>\n",
       "      <td>17919972</td>\n",
       "      <td>900399489126629377</td>\n",
       "      <td>2017-08-23 16:49:01+00:00</td>\n",
       "      <td>None</td>\n",
       "      <td>und</td>\n",
       "      <td>142856</td>\n",
       "      <td>16963</td>\n",
       "      <td>354735</td>\n",
       "      <td>58857</td>\n",
       "      <td>False</td>\n",
       "      <td>everyone</td>\n",
       "      <td>Twitter for iPhone</td>\n",
       "    </tr>\n",
       "    <tr>\n",
       "      <th>13</th>\n",
       "      <td>900357555289034752</td>\n",
       "      <td>https://t.co/xqhhDZ0y7c</td>\n",
       "      <td>17919972</td>\n",
       "      <td>900357555289034752</td>\n",
       "      <td>2017-08-23 14:02:23+00:00</td>\n",
       "      <td>None</td>\n",
       "      <td>und</td>\n",
       "      <td>48922</td>\n",
       "      <td>7800</td>\n",
       "      <td>161127</td>\n",
       "      <td>19786</td>\n",
       "      <td>False</td>\n",
       "      <td>everyone</td>\n",
       "      <td>Twitter for iPhone</td>\n",
       "    </tr>\n",
       "    <tr>\n",
       "      <th>14</th>\n",
       "      <td>900010249163112450</td>\n",
       "      <td>https://t.co/12Rfi8bso4</td>\n",
       "      <td>17919972</td>\n",
       "      <td>900010249163112450</td>\n",
       "      <td>2017-08-22 15:02:19+00:00</td>\n",
       "      <td>None</td>\n",
       "      <td>und</td>\n",
       "      <td>44286</td>\n",
       "      <td>7716</td>\n",
       "      <td>146479</td>\n",
       "      <td>13804</td>\n",
       "      <td>False</td>\n",
       "      <td>everyone</td>\n",
       "      <td>Twitter for iPhone</td>\n",
       "    </tr>\n",
       "    <tr>\n",
       "      <th>15</th>\n",
       "      <td>899647503859032065</td>\n",
       "      <td>https://t.co/p2DyY0e2M3</td>\n",
       "      <td>17919972</td>\n",
       "      <td>899647503859032065</td>\n",
       "      <td>2017-08-21 15:00:54+00:00</td>\n",
       "      <td>None</td>\n",
       "      <td>und</td>\n",
       "      <td>67387</td>\n",
       "      <td>18838</td>\n",
       "      <td>202367</td>\n",
       "      <td>41044</td>\n",
       "      <td>False</td>\n",
       "      <td>everyone</td>\n",
       "      <td>Twitter for iPhone</td>\n",
       "    </tr>\n",
       "  </tbody>\n",
       "</table>\n",
       "<p>716 rows × 14 columns</p>\n",
       "</div>"
      ],
      "text/plain": [
       "                     id                                               text  \\\n",
       "0   1485714267269738498  PS I wrote this tweet all by myself in case yo...   \n",
       "1   1485714265675812866  @DamonAlbarn I was such a big fan of yours unt...   \n",
       "2   1470506710901084162  *don’t say it, don’t say it OKAY I’m saying it...   \n",
       "3   1463277431700262915  NO PROBLEMS TODAY JUST CHAMPAGNE🥂 I wanted to ...   \n",
       "4   1462908811107307533  THANK YOU to the team that made All Too Well (...   \n",
       "..                  ...                                                ...   \n",
       "11   900923703424413696  New single #LookWhatYouMadeMeDo out now. Pre-o...   \n",
       "12   900399489126629377                            https://t.co/xMBBukfZPs   \n",
       "13   900357555289034752                            https://t.co/xqhhDZ0y7c   \n",
       "14   900010249163112450                            https://t.co/12Rfi8bso4   \n",
       "15   899647503859032065                            https://t.co/p2DyY0e2M3   \n",
       "\n",
       "   author_id      conversation_id                created_at  \\\n",
       "0   17919972  1485714265675812866 2022-01-24 20:40:59+00:00   \n",
       "1   17919972  1485714265675812866 2022-01-24 20:40:58+00:00   \n",
       "2   17919972  1470506710901084162 2021-12-13 21:31:35+00:00   \n",
       "3   17919972  1463277431700262915 2021-11-23 22:45:00+00:00   \n",
       "4   17919972  1462908807034679303 2021-11-22 22:20:14+00:00   \n",
       "..       ...                  ...                       ...   \n",
       "11  17919972   900923703424413696 2017-08-25 03:32:03+00:00   \n",
       "12  17919972   900399489126629377 2017-08-23 16:49:01+00:00   \n",
       "13  17919972   900357555289034752 2017-08-23 14:02:23+00:00   \n",
       "14  17919972   900010249163112450 2017-08-22 15:02:19+00:00   \n",
       "15  17919972   899647503859032065 2017-08-21 15:00:54+00:00   \n",
       "\n",
       "   in_reply_to_user_id lang  public_metrics_retweet_count  \\\n",
       "0             17919972   en                         85184   \n",
       "1            531750633   en                        117159   \n",
       "2                 None   en                        104161   \n",
       "3                 None   en                         84395   \n",
       "4             17919972   en                         13792   \n",
       "..                 ...  ...                           ...   \n",
       "11                None   en                         58892   \n",
       "12                None  und                        142856   \n",
       "13                None  und                         48922   \n",
       "14                None  und                         44286   \n",
       "15                None  und                         67387   \n",
       "\n",
       "    public_metrics_reply_count  public_metrics_like_count  \\\n",
       "0                        11082                     712933   \n",
       "1                        21855                     727525   \n",
       "2                        31860                     612858   \n",
       "3                        13627                     404821   \n",
       "4                         1068                     169536   \n",
       "..                         ...                        ...   \n",
       "11                        6071                     154784   \n",
       "12                       16963                     354735   \n",
       "13                        7800                     161127   \n",
       "14                        7716                     146479   \n",
       "15                       18838                     202367   \n",
       "\n",
       "    public_metrics_quote_count  possibly_sensitive reply_settings  \\\n",
       "0                        39604               False       everyone   \n",
       "1                        56340               False       everyone   \n",
       "2                        22541               False       everyone   \n",
       "3                        23401               False       everyone   \n",
       "4                          380               False       everyone   \n",
       "..                         ...                 ...            ...   \n",
       "11                       11152               False       everyone   \n",
       "12                       58857               False       everyone   \n",
       "13                       19786               False       everyone   \n",
       "14                       13804               False       everyone   \n",
       "15                       41044               False       everyone   \n",
       "\n",
       "                source  \n",
       "0   Twitter for iPhone  \n",
       "1   Twitter for iPhone  \n",
       "2   Twitter for iPhone  \n",
       "3   Twitter for iPhone  \n",
       "4   Twitter for iPhone  \n",
       "..                 ...  \n",
       "11  Twitter for iPhone  \n",
       "12  Twitter for iPhone  \n",
       "13  Twitter for iPhone  \n",
       "14  Twitter for iPhone  \n",
       "15  Twitter for iPhone  \n",
       "\n",
       "[716 rows x 14 columns]"
      ]
     },
     "execution_count": 10,
     "metadata": {},
     "output_type": "execute_result"
    }
   ],
   "source": [
    "response.timelines['taylorswift13'].df_tweets"
   ]
  },
  {
   "cell_type": "code",
   "execution_count": 20,
   "metadata": {},
   "outputs": [
    {
     "name": "stdout",
     "output_type": "stream",
     "text": [
      "Saving results to  C:\\Users\\ndeas\\Documents\\GitHub\\twitter_timeline\\data\\celeb_output_test/timeline/2022-02-09 12.55.21\n"
     ]
    }
   ],
   "source": [
    "response.save()"
   ]
  },
  {
   "cell_type": "markdown",
   "metadata": {},
   "source": [
    "## User Example "
   ]
  },
  {
   "cell_type": "markdown",
   "metadata": {},
   "source": [
    "This example collects information about a set of users, and saves the response after the request"
   ]
  },
  {
   "cell_type": "code",
   "execution_count": 21,
   "metadata": {},
   "outputs": [],
   "source": [
    "us_config = './configs/user_config_ex.yaml'\n",
    "pt_api.load_config(config_path = us_config)"
   ]
  },
  {
   "cell_type": "code",
   "execution_count": 22,
   "metadata": {},
   "outputs": [
    {
     "name": "stdout",
     "output_type": "stream",
     "text": [
      "Saving results to  C:\\Users\\ndeas\\Documents\\GitHub\\twitter_timeline\\data\\celeb_output_test/user/2022-02-09 12.55.34\n",
      "Pulling user information from given handles\n",
      "\r",
      "Collected 2 users"
     ]
    }
   ],
   "source": [
    "response = pt_api.users(user_csv = handle_csv,\n",
    "                handle_column = 'handle',\n",
    "                       auto_save = True)"
   ]
  },
  {
   "cell_type": "code",
   "execution_count": 9,
   "metadata": {},
   "outputs": [
    {
     "data": {
      "text/html": [
       "<div>\n",
       "<style scoped>\n",
       "    .dataframe tbody tr th:only-of-type {\n",
       "        vertical-align: middle;\n",
       "    }\n",
       "\n",
       "    .dataframe tbody tr th {\n",
       "        vertical-align: top;\n",
       "    }\n",
       "\n",
       "    .dataframe thead th {\n",
       "        text-align: right;\n",
       "    }\n",
       "</style>\n",
       "<table border=\"1\" class=\"dataframe\">\n",
       "  <thead>\n",
       "    <tr style=\"text-align: right;\">\n",
       "      <th></th>\n",
       "      <th>id</th>\n",
       "      <th>name</th>\n",
       "      <th>username</th>\n",
       "      <th>created_at</th>\n",
       "      <th>description</th>\n",
       "      <th>location</th>\n",
       "      <th>pinned_tweet_id</th>\n",
       "      <th>profile_image_url</th>\n",
       "      <th>protected</th>\n",
       "      <th>public_metrics_followers_count</th>\n",
       "      <th>public_metrics_following_count</th>\n",
       "      <th>public_metrics_tweet_count</th>\n",
       "      <th>public_metrics_listed_count</th>\n",
       "      <th>url</th>\n",
       "      <th>verified</th>\n",
       "    </tr>\n",
       "  </thead>\n",
       "  <tbody>\n",
       "    <tr>\n",
       "      <th>0</th>\n",
       "      <td>31239408</td>\n",
       "      <td>BEYONCÉ</td>\n",
       "      <td>Beyonce</td>\n",
       "      <td>2009-04-14 21:56:04+00:00</td>\n",
       "      <td></td>\n",
       "      <td>None</td>\n",
       "      <td>NaN</td>\n",
       "      <td>None</td>\n",
       "      <td>None</td>\n",
       "      <td>15473955</td>\n",
       "      <td>10</td>\n",
       "      <td>19</td>\n",
       "      <td>32629</td>\n",
       "      <td>None</td>\n",
       "      <td>None</td>\n",
       "    </tr>\n",
       "    <tr>\n",
       "      <th>1</th>\n",
       "      <td>17919972</td>\n",
       "      <td>Taylor Swift</td>\n",
       "      <td>taylorswift13</td>\n",
       "      <td>2008-12-06 10:10:54+00:00</td>\n",
       "      <td>Happy, free, confused and lonely at the same t...</td>\n",
       "      <td>None</td>\n",
       "      <td>1.459024e+18</td>\n",
       "      <td>None</td>\n",
       "      <td>None</td>\n",
       "      <td>89982893</td>\n",
       "      <td>0</td>\n",
       "      <td>716</td>\n",
       "      <td>113560</td>\n",
       "      <td>None</td>\n",
       "      <td>None</td>\n",
       "    </tr>\n",
       "  </tbody>\n",
       "</table>\n",
       "</div>"
      ],
      "text/plain": [
       "         id          name       username                created_at  \\\n",
       "0  31239408       BEYONCÉ        Beyonce 2009-04-14 21:56:04+00:00   \n",
       "1  17919972  Taylor Swift  taylorswift13 2008-12-06 10:10:54+00:00   \n",
       "\n",
       "                                         description location  \\\n",
       "0                                                        None   \n",
       "1  Happy, free, confused and lonely at the same t...     None   \n",
       "\n",
       "   pinned_tweet_id profile_image_url protected  \\\n",
       "0              NaN              None      None   \n",
       "1     1.459024e+18              None      None   \n",
       "\n",
       "   public_metrics_followers_count  public_metrics_following_count  \\\n",
       "0                        15473955                              10   \n",
       "1                        89982893                               0   \n",
       "\n",
       "   public_metrics_tweet_count  public_metrics_listed_count   url verified  \n",
       "0                          19                        32629  None     None  \n",
       "1                         716                       113560  None     None  "
      ]
     },
     "execution_count": 9,
     "metadata": {},
     "output_type": "execute_result"
    }
   ],
   "source": [
    "response.df_users.head()"
   ]
  },
  {
   "cell_type": "code",
   "execution_count": 7,
   "metadata": {},
   "outputs": [
    {
     "name": "stdout",
     "output_type": "stream",
     "text": [
      "Saving results to  C:\\Users\\ndeas\\Documents\\GitHub\\twitter_timeline\\data\\celeb_output_test/user/2022-02-04 23.18.51\n"
     ]
    }
   ],
   "source": [
    "response.save()"
   ]
  },
  {
   "cell_type": "markdown",
   "metadata": {},
   "source": [
    "## Search Example "
   ]
  },
  {
   "cell_type": "markdown",
   "metadata": {},
   "source": [
    "This example collects tweets matching a specified search query and exemplifies the use of the auto save feature"
   ]
  },
  {
   "cell_type": "code",
   "execution_count": 11,
   "metadata": {},
   "outputs": [],
   "source": [
    "se_config = './configs/search_config_ex.yaml'\n",
    "pt_api.load_config(config_path = se_config)"
   ]
  },
  {
   "cell_type": "code",
   "execution_count": 12,
   "metadata": {},
   "outputs": [
    {
     "name": "stdout",
     "output_type": "stream",
     "text": [
      "Saving results to  C:\\Users\\ndeas\\Documents\\GitHub\\twitter_timeline\\data\\celeb_output_test/search/2022-02-04 23.22.02\n",
      "Pulling tweet results using 'covid-19' search query.\n",
      "Collected 100 tweets for query: covid-19"
     ]
    }
   ],
   "source": [
    "search_results = pt_api.search('covid-19', auto_save = True)"
   ]
  },
  {
   "cell_type": "code",
   "execution_count": 13,
   "metadata": {},
   "outputs": [
    {
     "data": {
      "text/html": [
       "<div>\n",
       "<style scoped>\n",
       "    .dataframe tbody tr th:only-of-type {\n",
       "        vertical-align: middle;\n",
       "    }\n",
       "\n",
       "    .dataframe tbody tr th {\n",
       "        vertical-align: top;\n",
       "    }\n",
       "\n",
       "    .dataframe thead th {\n",
       "        text-align: right;\n",
       "    }\n",
       "</style>\n",
       "<table border=\"1\" class=\"dataframe\">\n",
       "  <thead>\n",
       "    <tr style=\"text-align: right;\">\n",
       "      <th></th>\n",
       "      <th>id</th>\n",
       "      <th>text</th>\n",
       "      <th>author_id</th>\n",
       "      <th>conversation_id</th>\n",
       "      <th>created_at</th>\n",
       "      <th>in_reply_to_user_id</th>\n",
       "      <th>lang</th>\n",
       "      <th>public_metrics_retweet_count</th>\n",
       "      <th>public_metrics_reply_count</th>\n",
       "      <th>public_metrics_like_count</th>\n",
       "      <th>public_metrics_quote_count</th>\n",
       "      <th>possibly_sensitive</th>\n",
       "      <th>reply_settings</th>\n",
       "      <th>source</th>\n",
       "    </tr>\n",
       "  </thead>\n",
       "  <tbody>\n",
       "    <tr>\n",
       "      <th>0</th>\n",
       "      <td>1489816517638500354</td>\n",
       "      <td>6 Hoaks Terkini Seputar Covid-19.\\nYuk Disipli...</td>\n",
       "      <td>1208926668695339008</td>\n",
       "      <td>1489816517638500354</td>\n",
       "      <td>2022-02-05 04:21:51+00:00</td>\n",
       "      <td>None</td>\n",
       "      <td>in</td>\n",
       "      <td>0</td>\n",
       "      <td>0</td>\n",
       "      <td>0</td>\n",
       "      <td>0</td>\n",
       "      <td>False</td>\n",
       "      <td>everyone</td>\n",
       "      <td>Twitter for Android</td>\n",
       "    </tr>\n",
       "    <tr>\n",
       "      <th>1</th>\n",
       "      <td>1489816517277593601</td>\n",
       "      <td>RT @Mounotella: Le nombre d'hospitalisations p...</td>\n",
       "      <td>1189461676380315649</td>\n",
       "      <td>1489816517277593601</td>\n",
       "      <td>2022-02-05 04:21:51+00:00</td>\n",
       "      <td>None</td>\n",
       "      <td>fr</td>\n",
       "      <td>192</td>\n",
       "      <td>0</td>\n",
       "      <td>0</td>\n",
       "      <td>0</td>\n",
       "      <td>False</td>\n",
       "      <td>everyone</td>\n",
       "      <td>Twitter for iPad</td>\n",
       "    </tr>\n",
       "    <tr>\n",
       "      <th>2</th>\n",
       "      <td>1489816516967206918</td>\n",
       "      <td>RT @NellyRSF27: BOMBE La Fondation Trudeau, in...</td>\n",
       "      <td>452567514</td>\n",
       "      <td>1489816516967206918</td>\n",
       "      <td>2022-02-05 04:21:51+00:00</td>\n",
       "      <td>None</td>\n",
       "      <td>fr</td>\n",
       "      <td>2</td>\n",
       "      <td>0</td>\n",
       "      <td>0</td>\n",
       "      <td>0</td>\n",
       "      <td>False</td>\n",
       "      <td>everyone</td>\n",
       "      <td>Twitter Web App</td>\n",
       "    </tr>\n",
       "    <tr>\n",
       "      <th>3</th>\n",
       "      <td>1489816516916776961</td>\n",
       "      <td>RT @PJM_data: Jimin Twitter Trends | South Kor...</td>\n",
       "      <td>1413551116978065410</td>\n",
       "      <td>1489816516916776961</td>\n",
       "      <td>2022-02-05 04:21:51+00:00</td>\n",
       "      <td>None</td>\n",
       "      <td>en</td>\n",
       "      <td>580</td>\n",
       "      <td>0</td>\n",
       "      <td>0</td>\n",
       "      <td>0</td>\n",
       "      <td>False</td>\n",
       "      <td>everyone</td>\n",
       "      <td>Twitter for Android</td>\n",
       "    </tr>\n",
       "    <tr>\n",
       "      <th>4</th>\n",
       "      <td>1489816515931168769</td>\n",
       "      <td>RT @CoronavirusNewv: 🌍 | MUNDO\\n\\nVarios paíse...</td>\n",
       "      <td>171498377</td>\n",
       "      <td>1489816515931168769</td>\n",
       "      <td>2022-02-05 04:21:51+00:00</td>\n",
       "      <td>None</td>\n",
       "      <td>es</td>\n",
       "      <td>63</td>\n",
       "      <td>0</td>\n",
       "      <td>0</td>\n",
       "      <td>0</td>\n",
       "      <td>False</td>\n",
       "      <td>everyone</td>\n",
       "      <td>Twitter for iPhone</td>\n",
       "    </tr>\n",
       "  </tbody>\n",
       "</table>\n",
       "</div>"
      ],
      "text/plain": [
       "                    id                                               text  \\\n",
       "0  1489816517638500354  6 Hoaks Terkini Seputar Covid-19.\\nYuk Disipli...   \n",
       "1  1489816517277593601  RT @Mounotella: Le nombre d'hospitalisations p...   \n",
       "2  1489816516967206918  RT @NellyRSF27: BOMBE La Fondation Trudeau, in...   \n",
       "3  1489816516916776961  RT @PJM_data: Jimin Twitter Trends | South Kor...   \n",
       "4  1489816515931168769  RT @CoronavirusNewv: 🌍 | MUNDO\\n\\nVarios paíse...   \n",
       "\n",
       "             author_id      conversation_id                created_at  \\\n",
       "0  1208926668695339008  1489816517638500354 2022-02-05 04:21:51+00:00   \n",
       "1  1189461676380315649  1489816517277593601 2022-02-05 04:21:51+00:00   \n",
       "2            452567514  1489816516967206918 2022-02-05 04:21:51+00:00   \n",
       "3  1413551116978065410  1489816516916776961 2022-02-05 04:21:51+00:00   \n",
       "4            171498377  1489816515931168769 2022-02-05 04:21:51+00:00   \n",
       "\n",
       "  in_reply_to_user_id lang  public_metrics_retweet_count  \\\n",
       "0                None   in                             0   \n",
       "1                None   fr                           192   \n",
       "2                None   fr                             2   \n",
       "3                None   en                           580   \n",
       "4                None   es                            63   \n",
       "\n",
       "   public_metrics_reply_count  public_metrics_like_count  \\\n",
       "0                           0                          0   \n",
       "1                           0                          0   \n",
       "2                           0                          0   \n",
       "3                           0                          0   \n",
       "4                           0                          0   \n",
       "\n",
       "   public_metrics_quote_count  possibly_sensitive reply_settings  \\\n",
       "0                           0               False       everyone   \n",
       "1                           0               False       everyone   \n",
       "2                           0               False       everyone   \n",
       "3                           0               False       everyone   \n",
       "4                           0               False       everyone   \n",
       "\n",
       "                source  \n",
       "0  Twitter for Android  \n",
       "1     Twitter for iPad  \n",
       "2      Twitter Web App  \n",
       "3  Twitter for Android  \n",
       "4   Twitter for iPhone  "
      ]
     },
     "execution_count": 13,
     "metadata": {},
     "output_type": "execute_result"
    }
   ],
   "source": [
    "search_results.df_tweets.head()"
   ]
  },
  {
   "cell_type": "markdown",
   "metadata": {},
   "source": [
    "### Random Testing"
   ]
  },
  {
   "cell_type": "code",
   "execution_count": 15,
   "metadata": {},
   "outputs": [],
   "source": [
    "class Parent(object):\n",
    "    \n",
    "    def __init__(self):\n",
    "        self.a = 1\n",
    "        \n",
    "    @staticmethod\n",
    "    def stat(a, b):\n",
    "        return a + b\n",
    "    \n",
    "class Child(Parent):\n",
    "    \n",
    "    def __init__(self):\n",
    "        super(Child, self).__init__()\n",
    "        self.b =2\n",
    "    \n",
    "    def get_stat(self):\n",
    "        return Parent.stat(self.a, self.b)"
   ]
  },
  {
   "cell_type": "code",
   "execution_count": 16,
   "metadata": {},
   "outputs": [],
   "source": [
    "child = Child()"
   ]
  },
  {
   "cell_type": "code",
   "execution_count": 17,
   "metadata": {},
   "outputs": [
    {
     "data": {
      "text/plain": [
       "3"
      ]
     },
     "execution_count": 17,
     "metadata": {},
     "output_type": "execute_result"
    }
   ],
   "source": [
    "child.get_stat()"
   ]
  },
  {
   "cell_type": "code",
   "execution_count": null,
   "metadata": {},
   "outputs": [],
   "source": []
  }
 ],
 "metadata": {
  "kernelspec": {
   "display_name": "Python 3",
   "language": "python",
   "name": "python3"
  },
  "language_info": {
   "codemirror_mode": {
    "name": "ipython",
    "version": 3
   },
   "file_extension": ".py",
   "mimetype": "text/x-python",
   "name": "python",
   "nbconvert_exporter": "python",
   "pygments_lexer": "ipython3",
   "version": "3.7.7"
  }
 },
 "nbformat": 4,
 "nbformat_minor": 4
}
