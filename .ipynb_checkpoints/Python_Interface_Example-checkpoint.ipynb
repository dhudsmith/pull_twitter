{
 "cells": [
  {
   "cell_type": "markdown",
   "metadata": {},
   "source": [
    "# Imports "
   ]
  },
  {
   "cell_type": "code",
   "execution_count": 2,
   "metadata": {},
   "outputs": [],
   "source": [
    "# utils contains configuration and scripts to interface with the Twitter API\n",
    "# PullTwitterAPI is the full python interface for the package\n",
    "from pull_twitter_api import TwitterPullConfig, PullTwitterAPI\n",
    "\n",
    "import os\n",
    "import twitteralchemy as twalc"
   ]
  },
  {
   "cell_type": "markdown",
   "metadata": {},
   "source": [
    "# Configuration "
   ]
  },
  {
   "cell_type": "markdown",
   "metadata": {},
   "source": [
    "Config for the api queries can either be passed as a file path to a yaml file, or as a TwitterPullConfig  object"
   ]
  },
  {
   "cell_type": "markdown",
   "metadata": {},
   "source": [
    "## File path "
   ]
  },
  {
   "cell_type": "code",
   "execution_count": 3,
   "metadata": {},
   "outputs": [],
   "source": [
    "config_path = './configs/timeline_config_ex.yaml'"
   ]
  },
  {
   "cell_type": "code",
   "execution_count": 4,
   "metadata": {},
   "outputs": [],
   "source": [
    "pt_api = PullTwitterAPI(config_path = config_path)"
   ]
  },
  {
   "cell_type": "markdown",
   "metadata": {},
   "source": [
    "## Config Object"
   ]
  },
  {
   "cell_type": "markdown",
   "metadata": {},
   "source": [
    "config = TwitterPullConfig.from_file(config_path)"
   ]
  },
  {
   "cell_type": "markdown",
   "metadata": {},
   "source": [
    "pt_api = PullTwitterAPI(config = config)"
   ]
  },
  {
   "cell_type": "markdown",
   "metadata": {},
   "source": [
    "# API Query Calls "
   ]
  },
  {
   "cell_type": "code",
   "execution_count": 5,
   "metadata": {},
   "outputs": [],
   "source": [
    "handle_csv = './data/celeb_handle_test_short.csv'"
   ]
  },
  {
   "cell_type": "markdown",
   "metadata": {},
   "source": [
    "## User Example "
   ]
  },
  {
   "cell_type": "code",
   "execution_count": 6,
   "metadata": {},
   "outputs": [],
   "source": [
    "us_config = './configs/user_config_ex.yaml'\n",
    "pt_api.load_config(config_path = us_config)"
   ]
  },
  {
   "cell_type": "code",
   "execution_count": 7,
   "metadata": {},
   "outputs": [
    {
     "ename": "AttributeError",
     "evalue": "'PullTwitterAPI' object has no attribute 'create_output_dir'",
     "output_type": "error",
     "traceback": [
      "\u001b[1;31m---------------------------------------------------------------------------\u001b[0m",
      "\u001b[1;31mAttributeError\u001b[0m                            Traceback (most recent call last)",
      "\u001b[1;32m<ipython-input-7-a949fd919652>\u001b[0m in \u001b[0;36m<module>\u001b[1;34m\u001b[0m\n\u001b[0;32m      1\u001b[0m pt_api.users(user_csv = handle_csv,\n\u001b[1;32m----> 2\u001b[1;33m                 handle_column = 'handle')\n\u001b[0m",
      "\u001b[1;32m~\\Documents\\GitHub\\twitter_timeline\\pull_twitter_api\\pull_twitter_api.py\u001b[0m in \u001b[0;36musers\u001b[1;34m(self, user_csv, **kwargs)\u001b[0m\n\u001b[0;32m    148\u001b[0m                         \u001b[1;32mraise\u001b[0m \u001b[0mValueError\u001b[0m\u001b[1;33m(\u001b[0m\u001b[1;34m\"One of config or config_path must be set.\"\u001b[0m\u001b[1;33m)\u001b[0m\u001b[1;33m\u001b[0m\u001b[1;33m\u001b[0m\u001b[0m\n\u001b[0;32m    149\u001b[0m \u001b[1;33m\u001b[0m\u001b[0m\n\u001b[1;32m--> 150\u001b[1;33m                 \u001b[0moutput_dir\u001b[0m \u001b[1;33m=\u001b[0m \u001b[0mself\u001b[0m\u001b[1;33m.\u001b[0m\u001b[0mcreate_output_dir\u001b[0m\u001b[1;33m(\u001b[0m\u001b[1;34m'users'\u001b[0m\u001b[1;33m)\u001b[0m\u001b[1;33m\u001b[0m\u001b[1;33m\u001b[0m\u001b[0m\n\u001b[0m\u001b[0;32m    151\u001b[0m \u001b[1;33m\u001b[0m\u001b[0m\n\u001b[0;32m    152\u001b[0m                 \u001b[0mc_kwargs\u001b[0m \u001b[1;33m=\u001b[0m \u001b[0mdict\u001b[0m\u001b[1;33m(\u001b[0m\u001b[1;33m{\u001b[0m\u001b[1;34m'user_csv'\u001b[0m\u001b[1;33m:\u001b[0m \u001b[0muser_csv\u001b[0m\u001b[1;33m}\u001b[0m\u001b[1;33m,\u001b[0m \u001b[1;33m**\u001b[0m\u001b[0mkwargs\u001b[0m\u001b[1;33m)\u001b[0m\u001b[1;33m\u001b[0m\u001b[1;33m\u001b[0m\u001b[0m\n",
      "\u001b[1;31mAttributeError\u001b[0m: 'PullTwitterAPI' object has no attribute 'create_output_dir'"
     ]
    }
   ],
   "source": [
    "pt_api.users(user_csv = handle_csv,\n",
    "                handle_column = 'handle')"
   ]
  },
  {
   "cell_type": "markdown",
   "metadata": {},
   "source": [
    "## Search Example "
   ]
  },
  {
   "cell_type": "code",
   "execution_count": 5,
   "metadata": {},
   "outputs": [],
   "source": [
    "se_config = './configs/search_config_ex.yaml'\n",
    "pt_api.load_config(config_path = se_config)"
   ]
  },
  {
   "cell_type": "code",
   "execution_count": 6,
   "metadata": {},
   "outputs": [
    {
     "name": "stdout",
     "output_type": "stream",
     "text": [
      "Saving results to  C:\\Users\\ndeas\\Documents\\GitHub\\twitter_timeline\\data\\celeb_output_test/search/2022-02-04 21.58.40\n",
      "Pulling tweet results using 'covid-19' search query.\n",
      "Saving results to  C:\\Users\\ndeas\\Documents\\GitHub\\twitter_timeline\\data\\celeb_output_test/search/2022-02-04 21.58.40\n",
      "Collected 90 tweets for query: covid-19Saving results to  C:\\Users\\ndeas\\Documents\\GitHub\\twitter_timeline\\data\\celeb_output_test/search/2022-02-04 21.58.40\n",
      "Collected 100 tweets for query: covid-19"
     ]
    }
   ],
   "source": [
    "search_results = pt_api.search('covid-19', auto_save = True)"
   ]
  },
  {
   "cell_type": "markdown",
   "metadata": {},
   "source": [
    "## Timeline Example"
   ]
  },
  {
   "cell_type": "code",
   "execution_count": 5,
   "metadata": {},
   "outputs": [],
   "source": [
    "tl_config = './configs/timeline_config_ex.yaml'\n",
    "pt_api.load_config(config_path = tl_config)"
   ]
  },
  {
   "cell_type": "code",
   "execution_count": 6,
   "metadata": {},
   "outputs": [
    {
     "name": "stdout",
     "output_type": "stream",
     "text": [
      "Processing handle 1/3\n",
      "Pulling timeline for handle beyonce.\n",
      "Successfully retrieved user_id 31239408 for @beyonce.\n",
      "Saving tweets to C:\\Users\\ndeas\\Documents\\GitHub\\twitter_timeline\\data\\celeb_output_test/timeline/2022-02-04 08.13.32/beyonce/data_%s.csv\n",
      "Collected 19 tweets for handle beyonce\n",
      "------------------------------\n",
      "Processing handle 2/3\n",
      "Pulling timeline for handle lakjdflkajdfasd.\n",
      "Failed to get user id for lakjdflkajdfasd\n",
      "Failed to pull timeline for handle lakjdflkajdfasd. Error:  'NoneType' object has no attribute 'id'\n",
      "Processing handle 3/3\n",
      "Pulling timeline for handle taylorswift13.\n",
      "Successfully retrieved user_id 17919972 for @taylorswift13.\n",
      "Saving tweets to C:\\Users\\ndeas\\Documents\\GitHub\\twitter_timeline\\data\\celeb_output_test/timeline/2022-02-04 08.13.32/taylorswift13/data_%s.csv\n",
      "Collected 716 tweets for handle taylorswift13\n",
      "------------------------------\n"
     ]
    }
   ],
   "source": [
    "pt_api.timelines(user_csv = handle_csv,\n",
    "                handle_column = 'handle')"
   ]
  },
  {
   "cell_type": "markdown",
   "metadata": {},
   "source": [
    "### Random Testing"
   ]
  },
  {
   "cell_type": "code",
   "execution_count": 15,
   "metadata": {},
   "outputs": [],
   "source": [
    "class Parent(object):\n",
    "    \n",
    "    def __init__(self):\n",
    "        self.a = 1\n",
    "        \n",
    "    @staticmethod\n",
    "    def stat(a, b):\n",
    "        return a + b\n",
    "    \n",
    "class Child(Parent):\n",
    "    \n",
    "    def __init__(self):\n",
    "        super(Child, self).__init__()\n",
    "        self.b =2\n",
    "    \n",
    "    def get_stat(self):\n",
    "        return Parent.stat(self.a, self.b)"
   ]
  },
  {
   "cell_type": "code",
   "execution_count": 16,
   "metadata": {},
   "outputs": [],
   "source": [
    "child = Child()"
   ]
  },
  {
   "cell_type": "code",
   "execution_count": 17,
   "metadata": {},
   "outputs": [
    {
     "data": {
      "text/plain": [
       "3"
      ]
     },
     "execution_count": 17,
     "metadata": {},
     "output_type": "execute_result"
    }
   ],
   "source": [
    "child.get_stat()"
   ]
  },
  {
   "cell_type": "code",
   "execution_count": null,
   "metadata": {},
   "outputs": [],
   "source": []
  }
 ],
 "metadata": {
  "kernelspec": {
   "display_name": "Python 3",
   "language": "python",
   "name": "python3"
  },
  "language_info": {
   "codemirror_mode": {
    "name": "ipython",
    "version": 3
   },
   "file_extension": ".py",
   "mimetype": "text/x-python",
   "name": "python",
   "nbconvert_exporter": "python",
   "pygments_lexer": "ipython3",
   "version": "3.7.7"
  }
 },
 "nbformat": 4,
 "nbformat_minor": 4
}
