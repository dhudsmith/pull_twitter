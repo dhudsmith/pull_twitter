{
 "cells": [
  {
   "cell_type": "markdown",
   "metadata": {},
   "source": [
    "# Imports "
   ]
  },
  {
   "cell_type": "code",
   "execution_count": 1,
   "metadata": {},
   "outputs": [],
   "source": [
    "# utils contains configuration and scripts to interface with the Twitter API\n",
    "# PullTwitterAPI is the full python interface for the package\n",
    "from pull_twitter_api import TwitterPullConfig, PullTwitterAPI\n",
    "\n",
    "import os\n",
    "import twitteralchemy as twalc"
   ]
  },
  {
   "cell_type": "markdown",
   "metadata": {},
   "source": [
    "# Configuration "
   ]
  },
  {
   "cell_type": "markdown",
   "metadata": {},
   "source": [
    "Config for the api queries can either be passed as a file path to a yaml file, or as a TwitterPullConfig  object"
   ]
  },
  {
   "cell_type": "markdown",
   "metadata": {},
   "source": [
    "## File path "
   ]
  },
  {
   "cell_type": "code",
   "execution_count": 2,
   "metadata": {},
   "outputs": [],
   "source": [
    "# config_path = './configs/timeline_config_ex.yaml'"
   ]
  },
  {
   "cell_type": "code",
   "execution_count": 3,
   "metadata": {},
   "outputs": [],
   "source": [
    "# pt_api = PullTwitterAPI(config_path = config_path)"
   ]
  },
  {
   "cell_type": "markdown",
   "metadata": {},
   "source": [
    "## Config Object"
   ]
  },
  {
   "cell_type": "markdown",
   "metadata": {},
   "source": [
    "config = TwitterPullConfig.from_file(config_path)"
   ]
  },
  {
   "cell_type": "markdown",
   "metadata": {},
   "source": [
    "pt_api = PullTwitterAPI(config = config)"
   ]
  },
  {
   "cell_type": "markdown",
   "metadata": {},
   "source": [
    "# API Query Calls "
   ]
  },
  {
   "cell_type": "code",
   "execution_count": 4,
   "metadata": {},
   "outputs": [],
   "source": [
    "handle_csv = './data/celeb_handle_test_short.csv'\n",
    "id_csv     = './data/celeb_id_test.csv'"
   ]
  },
  {
   "cell_type": "markdown",
   "metadata": {},
   "source": [
    "## Lookup Example "
   ]
  },
  {
   "cell_type": "code",
   "execution_count": 13,
   "metadata": {},
   "outputs": [],
   "source": [
    "lu_config = './configs/search_config_ex.yaml'\n",
    "pt_api = PullTwitterAPI(config_path = lu_config)"
   ]
  },
  {
   "cell_type": "code",
   "execution_count": 21,
   "metadata": {},
   "outputs": [
    {
     "name": "stdout",
     "output_type": "stream",
     "text": [
      "Saving results to  C:\\Users\\ndeas\\Documents\\GitHub\\twitter_timeline\\data\\celeb_output_test/lookup/2022-02-13 00.43.11\n",
      "Pulling tweet results for 19 ids.\n",
      "Collected 19 tweets"
     ]
    }
   ],
   "source": [
    "response = pt_api.lookup(id_csv = id_csv,\n",
    "                id_col = 'id', auto_save = True)"
   ]
  },
  {
   "cell_type": "markdown",
   "metadata": {},
   "source": [
    "## Timeline Example"
   ]
  },
  {
   "cell_type": "markdown",
   "metadata": {},
   "source": [
    "This example collects the full timelines for a set of users. The response is structured slightly differently, holding a set of tweet responses representing each user rather than a single response."
   ]
  },
  {
   "cell_type": "code",
   "execution_count": 10,
   "metadata": {},
   "outputs": [],
   "source": [
    "tl_config = './configs/timeline_config_ex.yaml'\n",
    "pt_api = PullTwitterAPI(config_path = tl_config)"
   ]
  },
  {
   "cell_type": "code",
   "execution_count": 11,
   "metadata": {
    "scrolled": true
   },
   "outputs": [
    {
     "name": "stdout",
     "output_type": "stream",
     "text": [
      "Processing handle 1/3\n",
      "Pulling timeline for handle beyonce.\n",
      "Successfully retrieved user_id 31239408 for @beyonce.\n",
      "Collected 19 tweets for handle beyonce\n",
      "------------------------------\n",
      "Processing handle 2/3\n",
      "Pulling timeline for handle justinbeiber.\n",
      "Failed to get user id for justinbeiber\n",
      "Failed to pull timeline for handle justinbeiber. Error:  'NoneType' object has no attribute 'id'\n",
      "Processing handle 3/3\n",
      "Pulling timeline for handle taylorswift13.\n",
      "Successfully retrieved user_id 17919972 for @taylorswift13.\n",
      "Collected 716 tweets for handle taylorswift13\n",
      "------------------------------\n"
     ]
    }
   ],
   "source": [
    "response = pt_api.timelines(user_csv = handle_csv,\n",
    "                handle_column = 'handle')"
   ]
  },
  {
   "cell_type": "code",
   "execution_count": 12,
   "metadata": {},
   "outputs": [
    {
     "data": {
      "text/plain": [
       "716"
      ]
     },
     "execution_count": 12,
     "metadata": {},
     "output_type": "execute_result"
    }
   ],
   "source": [
    "len(response.timelines['taylorswift13'].df_tweets)"
   ]
  },
  {
   "cell_type": "code",
   "execution_count": null,
   "metadata": {},
   "outputs": [],
   "source": []
  },
  {
   "cell_type": "code",
   "execution_count": null,
   "metadata": {},
   "outputs": [],
   "source": []
  },
  {
   "cell_type": "code",
   "execution_count": 13,
   "metadata": {},
   "outputs": [
    {
     "name": "stdout",
     "output_type": "stream",
     "text": [
      "Saving results to  C:\\Users\\ndeas\\Documents\\GitHub\\twitter_timeline\\data\\celeb_output_test/timeline/2022-02-16 12.59.06\n"
     ]
    }
   ],
   "source": [
    "response.save()"
   ]
  },
  {
   "cell_type": "code",
   "execution_count": 14,
   "metadata": {},
   "outputs": [
    {
     "name": "stdout",
     "output_type": "stream",
     "text": [
      "Saving results to  C:\\Users\\ndeas\\Documents\\GitHub\\twitter_timeline\\data\\celeb_output_test/timeline/2022-02-16 12.59.07\n",
      "Processing handle 1/3\n",
      "Pulling timeline for handle beyonce.\n",
      "Successfully retrieved user_id 31239408 for @beyonce.\n",
      "Collected 19 tweets for handle beyonce\n",
      "------------------------------\n",
      "Processing handle 2/3\n",
      "Pulling timeline for handle justinbeiber.\n",
      "Failed to get user id for justinbeiber\n",
      "Failed to pull timeline for handle justinbeiber. Error:  'NoneType' object has no attribute 'id'\n",
      "Processing handle 3/3\n",
      "Pulling timeline for handle taylorswift13.\n",
      "Successfully retrieved user_id 17919972 for @taylorswift13.\n",
      "Collected 716 tweets for handle taylorswift13\n",
      "------------------------------\n"
     ]
    }
   ],
   "source": [
    "response = pt_api.timelines(user_csv = handle_csv,\n",
    "                handle_column = 'handle',\n",
    "                auto_save = True)"
   ]
  },
  {
   "cell_type": "code",
   "execution_count": 15,
   "metadata": {},
   "outputs": [
    {
     "data": {
      "text/plain": [
       "16"
      ]
     },
     "execution_count": 15,
     "metadata": {},
     "output_type": "execute_result"
    }
   ],
   "source": [
    "len(response.timelines['taylorswift13'].df_tweets)"
   ]
  },
  {
   "cell_type": "markdown",
   "metadata": {},
   "source": [
    "## User Example "
   ]
  },
  {
   "cell_type": "markdown",
   "metadata": {},
   "source": [
    "This example collects information about a set of users, and saves the response after the request"
   ]
  },
  {
   "cell_type": "code",
   "execution_count": 21,
   "metadata": {},
   "outputs": [],
   "source": [
    "us_config = './configs/user_config_ex.yaml'\n",
    "pt_api.load_config(config_path = us_config)"
   ]
  },
  {
   "cell_type": "code",
   "execution_count": 22,
   "metadata": {},
   "outputs": [
    {
     "name": "stdout",
     "output_type": "stream",
     "text": [
      "Saving results to  C:\\Users\\ndeas\\Documents\\GitHub\\twitter_timeline\\data\\celeb_output_test/user/2022-02-09 12.55.34\n",
      "Pulling user information from given handles\n",
      "\r",
      "Collected 2 users"
     ]
    }
   ],
   "source": [
    "response = pt_api.users(user_csv = handle_csv,\n",
    "                handle_column = 'handle',\n",
    "                       auto_save = True)"
   ]
  },
  {
   "cell_type": "code",
   "execution_count": 9,
   "metadata": {
    "collapsed": true
   },
   "outputs": [
    {
     "data": {
      "text/html": [
       "<div>\n",
       "<style scoped>\n",
       "    .dataframe tbody tr th:only-of-type {\n",
       "        vertical-align: middle;\n",
       "    }\n",
       "\n",
       "    .dataframe tbody tr th {\n",
       "        vertical-align: top;\n",
       "    }\n",
       "\n",
       "    .dataframe thead th {\n",
       "        text-align: right;\n",
       "    }\n",
       "</style>\n",
       "<table border=\"1\" class=\"dataframe\">\n",
       "  <thead>\n",
       "    <tr style=\"text-align: right;\">\n",
       "      <th></th>\n",
       "      <th>id</th>\n",
       "      <th>name</th>\n",
       "      <th>username</th>\n",
       "      <th>created_at</th>\n",
       "      <th>description</th>\n",
       "      <th>location</th>\n",
       "      <th>pinned_tweet_id</th>\n",
       "      <th>profile_image_url</th>\n",
       "      <th>protected</th>\n",
       "      <th>public_metrics_followers_count</th>\n",
       "      <th>public_metrics_following_count</th>\n",
       "      <th>public_metrics_tweet_count</th>\n",
       "      <th>public_metrics_listed_count</th>\n",
       "      <th>url</th>\n",
       "      <th>verified</th>\n",
       "    </tr>\n",
       "  </thead>\n",
       "  <tbody>\n",
       "    <tr>\n",
       "      <th>0</th>\n",
       "      <td>31239408</td>\n",
       "      <td>BEYONCÉ</td>\n",
       "      <td>Beyonce</td>\n",
       "      <td>2009-04-14 21:56:04+00:00</td>\n",
       "      <td></td>\n",
       "      <td>None</td>\n",
       "      <td>NaN</td>\n",
       "      <td>None</td>\n",
       "      <td>None</td>\n",
       "      <td>15473955</td>\n",
       "      <td>10</td>\n",
       "      <td>19</td>\n",
       "      <td>32629</td>\n",
       "      <td>None</td>\n",
       "      <td>None</td>\n",
       "    </tr>\n",
       "    <tr>\n",
       "      <th>1</th>\n",
       "      <td>17919972</td>\n",
       "      <td>Taylor Swift</td>\n",
       "      <td>taylorswift13</td>\n",
       "      <td>2008-12-06 10:10:54+00:00</td>\n",
       "      <td>Happy, free, confused and lonely at the same t...</td>\n",
       "      <td>None</td>\n",
       "      <td>1.459024e+18</td>\n",
       "      <td>None</td>\n",
       "      <td>None</td>\n",
       "      <td>89982893</td>\n",
       "      <td>0</td>\n",
       "      <td>716</td>\n",
       "      <td>113560</td>\n",
       "      <td>None</td>\n",
       "      <td>None</td>\n",
       "    </tr>\n",
       "  </tbody>\n",
       "</table>\n",
       "</div>"
      ],
      "text/plain": [
       "         id          name       username                created_at  \\\n",
       "0  31239408       BEYONCÉ        Beyonce 2009-04-14 21:56:04+00:00   \n",
       "1  17919972  Taylor Swift  taylorswift13 2008-12-06 10:10:54+00:00   \n",
       "\n",
       "                                         description location  \\\n",
       "0                                                        None   \n",
       "1  Happy, free, confused and lonely at the same t...     None   \n",
       "\n",
       "   pinned_tweet_id profile_image_url protected  \\\n",
       "0              NaN              None      None   \n",
       "1     1.459024e+18              None      None   \n",
       "\n",
       "   public_metrics_followers_count  public_metrics_following_count  \\\n",
       "0                        15473955                              10   \n",
       "1                        89982893                               0   \n",
       "\n",
       "   public_metrics_tweet_count  public_metrics_listed_count   url verified  \n",
       "0                          19                        32629  None     None  \n",
       "1                         716                       113560  None     None  "
      ]
     },
     "execution_count": 9,
     "metadata": {},
     "output_type": "execute_result"
    }
   ],
   "source": [
    "response.df_users.head()"
   ]
  },
  {
   "cell_type": "code",
   "execution_count": 7,
   "metadata": {},
   "outputs": [
    {
     "name": "stdout",
     "output_type": "stream",
     "text": [
      "Saving results to  C:\\Users\\ndeas\\Documents\\GitHub\\twitter_timeline\\data\\celeb_output_test/user/2022-02-04 23.18.51\n"
     ]
    }
   ],
   "source": [
    "response.save()"
   ]
  },
  {
   "cell_type": "markdown",
   "metadata": {},
   "source": [
    "## Search Example "
   ]
  },
  {
   "cell_type": "markdown",
   "metadata": {},
   "source": [
    "This example collects tweets matching a specified search query and exemplifies the use of the auto save feature"
   ]
  },
  {
   "cell_type": "code",
   "execution_count": 11,
   "metadata": {},
   "outputs": [],
   "source": [
    "se_config = './configs/search_config_ex.yaml'\n",
    "pt_api.load_config(config_path = se_config)"
   ]
  },
  {
   "cell_type": "code",
   "execution_count": 12,
   "metadata": {},
   "outputs": [
    {
     "name": "stdout",
     "output_type": "stream",
     "text": [
      "Saving results to  C:\\Users\\ndeas\\Documents\\GitHub\\twitter_timeline\\data\\celeb_output_test/search/2022-02-04 23.22.02\n",
      "Pulling tweet results using 'covid-19' search query.\n",
      "Collected 100 tweets for query: covid-19"
     ]
    }
   ],
   "source": [
    "search_results = pt_api.search('covid-19', auto_save = True)"
   ]
  },
  {
   "cell_type": "code",
   "execution_count": 13,
   "metadata": {},
   "outputs": [
    {
     "data": {
      "text/html": [
       "<div>\n",
       "<style scoped>\n",
       "    .dataframe tbody tr th:only-of-type {\n",
       "        vertical-align: middle;\n",
       "    }\n",
       "\n",
       "    .dataframe tbody tr th {\n",
       "        vertical-align: top;\n",
       "    }\n",
       "\n",
       "    .dataframe thead th {\n",
       "        text-align: right;\n",
       "    }\n",
       "</style>\n",
       "<table border=\"1\" class=\"dataframe\">\n",
       "  <thead>\n",
       "    <tr style=\"text-align: right;\">\n",
       "      <th></th>\n",
       "      <th>id</th>\n",
       "      <th>text</th>\n",
       "      <th>author_id</th>\n",
       "      <th>conversation_id</th>\n",
       "      <th>created_at</th>\n",
       "      <th>in_reply_to_user_id</th>\n",
       "      <th>lang</th>\n",
       "      <th>public_metrics_retweet_count</th>\n",
       "      <th>public_metrics_reply_count</th>\n",
       "      <th>public_metrics_like_count</th>\n",
       "      <th>public_metrics_quote_count</th>\n",
       "      <th>possibly_sensitive</th>\n",
       "      <th>reply_settings</th>\n",
       "      <th>source</th>\n",
       "    </tr>\n",
       "  </thead>\n",
       "  <tbody>\n",
       "    <tr>\n",
       "      <th>0</th>\n",
       "      <td>1489816517638500354</td>\n",
       "      <td>6 Hoaks Terkini Seputar Covid-19.\\nYuk Disipli...</td>\n",
       "      <td>1208926668695339008</td>\n",
       "      <td>1489816517638500354</td>\n",
       "      <td>2022-02-05 04:21:51+00:00</td>\n",
       "      <td>None</td>\n",
       "      <td>in</td>\n",
       "      <td>0</td>\n",
       "      <td>0</td>\n",
       "      <td>0</td>\n",
       "      <td>0</td>\n",
       "      <td>False</td>\n",
       "      <td>everyone</td>\n",
       "      <td>Twitter for Android</td>\n",
       "    </tr>\n",
       "    <tr>\n",
       "      <th>1</th>\n",
       "      <td>1489816517277593601</td>\n",
       "      <td>RT @Mounotella: Le nombre d'hospitalisations p...</td>\n",
       "      <td>1189461676380315649</td>\n",
       "      <td>1489816517277593601</td>\n",
       "      <td>2022-02-05 04:21:51+00:00</td>\n",
       "      <td>None</td>\n",
       "      <td>fr</td>\n",
       "      <td>192</td>\n",
       "      <td>0</td>\n",
       "      <td>0</td>\n",
       "      <td>0</td>\n",
       "      <td>False</td>\n",
       "      <td>everyone</td>\n",
       "      <td>Twitter for iPad</td>\n",
       "    </tr>\n",
       "    <tr>\n",
       "      <th>2</th>\n",
       "      <td>1489816516967206918</td>\n",
       "      <td>RT @NellyRSF27: BOMBE La Fondation Trudeau, in...</td>\n",
       "      <td>452567514</td>\n",
       "      <td>1489816516967206918</td>\n",
       "      <td>2022-02-05 04:21:51+00:00</td>\n",
       "      <td>None</td>\n",
       "      <td>fr</td>\n",
       "      <td>2</td>\n",
       "      <td>0</td>\n",
       "      <td>0</td>\n",
       "      <td>0</td>\n",
       "      <td>False</td>\n",
       "      <td>everyone</td>\n",
       "      <td>Twitter Web App</td>\n",
       "    </tr>\n",
       "    <tr>\n",
       "      <th>3</th>\n",
       "      <td>1489816516916776961</td>\n",
       "      <td>RT @PJM_data: Jimin Twitter Trends | South Kor...</td>\n",
       "      <td>1413551116978065410</td>\n",
       "      <td>1489816516916776961</td>\n",
       "      <td>2022-02-05 04:21:51+00:00</td>\n",
       "      <td>None</td>\n",
       "      <td>en</td>\n",
       "      <td>580</td>\n",
       "      <td>0</td>\n",
       "      <td>0</td>\n",
       "      <td>0</td>\n",
       "      <td>False</td>\n",
       "      <td>everyone</td>\n",
       "      <td>Twitter for Android</td>\n",
       "    </tr>\n",
       "    <tr>\n",
       "      <th>4</th>\n",
       "      <td>1489816515931168769</td>\n",
       "      <td>RT @CoronavirusNewv: 🌍 | MUNDO\\n\\nVarios paíse...</td>\n",
       "      <td>171498377</td>\n",
       "      <td>1489816515931168769</td>\n",
       "      <td>2022-02-05 04:21:51+00:00</td>\n",
       "      <td>None</td>\n",
       "      <td>es</td>\n",
       "      <td>63</td>\n",
       "      <td>0</td>\n",
       "      <td>0</td>\n",
       "      <td>0</td>\n",
       "      <td>False</td>\n",
       "      <td>everyone</td>\n",
       "      <td>Twitter for iPhone</td>\n",
       "    </tr>\n",
       "  </tbody>\n",
       "</table>\n",
       "</div>"
      ],
      "text/plain": [
       "                    id                                               text  \\\n",
       "0  1489816517638500354  6 Hoaks Terkini Seputar Covid-19.\\nYuk Disipli...   \n",
       "1  1489816517277593601  RT @Mounotella: Le nombre d'hospitalisations p...   \n",
       "2  1489816516967206918  RT @NellyRSF27: BOMBE La Fondation Trudeau, in...   \n",
       "3  1489816516916776961  RT @PJM_data: Jimin Twitter Trends | South Kor...   \n",
       "4  1489816515931168769  RT @CoronavirusNewv: 🌍 | MUNDO\\n\\nVarios paíse...   \n",
       "\n",
       "             author_id      conversation_id                created_at  \\\n",
       "0  1208926668695339008  1489816517638500354 2022-02-05 04:21:51+00:00   \n",
       "1  1189461676380315649  1489816517277593601 2022-02-05 04:21:51+00:00   \n",
       "2            452567514  1489816516967206918 2022-02-05 04:21:51+00:00   \n",
       "3  1413551116978065410  1489816516916776961 2022-02-05 04:21:51+00:00   \n",
       "4            171498377  1489816515931168769 2022-02-05 04:21:51+00:00   \n",
       "\n",
       "  in_reply_to_user_id lang  public_metrics_retweet_count  \\\n",
       "0                None   in                             0   \n",
       "1                None   fr                           192   \n",
       "2                None   fr                             2   \n",
       "3                None   en                           580   \n",
       "4                None   es                            63   \n",
       "\n",
       "   public_metrics_reply_count  public_metrics_like_count  \\\n",
       "0                           0                          0   \n",
       "1                           0                          0   \n",
       "2                           0                          0   \n",
       "3                           0                          0   \n",
       "4                           0                          0   \n",
       "\n",
       "   public_metrics_quote_count  possibly_sensitive reply_settings  \\\n",
       "0                           0               False       everyone   \n",
       "1                           0               False       everyone   \n",
       "2                           0               False       everyone   \n",
       "3                           0               False       everyone   \n",
       "4                           0               False       everyone   \n",
       "\n",
       "                source  \n",
       "0  Twitter for Android  \n",
       "1     Twitter for iPad  \n",
       "2      Twitter Web App  \n",
       "3  Twitter for Android  \n",
       "4   Twitter for iPhone  "
      ]
     },
     "execution_count": 13,
     "metadata": {},
     "output_type": "execute_result"
    }
   ],
   "source": [
    "search_results.df_tweets.head()"
   ]
  },
  {
   "cell_type": "markdown",
   "metadata": {},
   "source": [
    "### Random Testing"
   ]
  },
  {
   "cell_type": "code",
   "execution_count": 15,
   "metadata": {},
   "outputs": [],
   "source": [
    "class Parent(object):\n",
    "    \n",
    "    def __init__(self):\n",
    "        self.a = 1\n",
    "        \n",
    "    @staticmethod\n",
    "    def stat(a, b):\n",
    "        return a + b\n",
    "    \n",
    "class Child(Parent):\n",
    "    \n",
    "    def __init__(self):\n",
    "        super(Child, self).__init__()\n",
    "        self.b =2\n",
    "    \n",
    "    def get_stat(self):\n",
    "        return Parent.stat(self.a, self.b)"
   ]
  },
  {
   "cell_type": "code",
   "execution_count": 16,
   "metadata": {},
   "outputs": [],
   "source": [
    "child = Child()"
   ]
  },
  {
   "cell_type": "code",
   "execution_count": 17,
   "metadata": {},
   "outputs": [
    {
     "data": {
      "text/plain": [
       "3"
      ]
     },
     "execution_count": 17,
     "metadata": {},
     "output_type": "execute_result"
    }
   ],
   "source": [
    "child.get_stat()"
   ]
  },
  {
   "cell_type": "code",
   "execution_count": null,
   "metadata": {},
   "outputs": [],
   "source": []
  }
 ],
 "metadata": {
  "kernelspec": {
   "display_name": "Python 3",
   "language": "python",
   "name": "python3"
  },
  "language_info": {
   "codemirror_mode": {
    "name": "ipython",
    "version": 3
   },
   "file_extension": ".py",
   "mimetype": "text/x-python",
   "name": "python",
   "nbconvert_exporter": "python",
   "pygments_lexer": "ipython3",
   "version": "3.7.7"
  }
 },
 "nbformat": 4,
 "nbformat_minor": 4
}
